{
 "cells": [
  {
   "cell_type": "markdown",
   "metadata": {},
   "source": [
    "# K-Nearest Neighbours"
   ]
  },
  {
   "cell_type": "markdown",
   "metadata": {},
   "source": [
    "### Task 1\n",
    "Draw a graph that shows the distribution of the various labels across the entire dataset."
   ]
  },
  {
   "cell_type": "code",
   "execution_count": 70,
   "metadata": {},
   "outputs": [],
   "source": [
    "# importing libraries\n",
    "\n",
    "import numpy as np\n",
    "import matplotlib.pyplot as plt\n",
    "import pandas as pd\n",
    "from sklearn.preprocessing import LabelEncoder"
   ]
  },
  {
   "cell_type": "code",
   "execution_count": 71,
   "metadata": {},
   "outputs": [],
   "source": [
    "# loading dataset and extracting features\n",
    "\n",
    "dataset=np.load('data.npy', allow_pickle=True)\n",
    "# print(dataset)"
   ]
  },
  {
   "cell_type": "code",
   "execution_count": 72,
   "metadata": {},
   "outputs": [
    {
     "data": {
      "image/png": "[encoded data removed]",
      "text/plain": [
       "<Figure size 640x480 with 1 Axes>"
      ]
     },
     "metadata": {},
     "output_type": "display_data"
    }
   ],
   "source": [
    "# trying to graphically represent the labels\n",
    "\n",
    "# retrieve the labels\n",
    "labels=dataset[:,3]\n",
    "\n",
    "# Calculate the frequency of each label\n",
    "unique_labels, label_counts = np.unique(labels, return_counts=True)\n",
    "\n",
    "# Generate different colors for each label\n",
    "colors = plt.cm.viridis(np.linspace(0, 1, len(unique_labels)))\n",
    "\n",
    "# Plot the bar graph with different colors for each bar\n",
    "plt.bar(unique_labels, label_counts, color=colors)\n",
    "\n",
    "# Add labels and title\n",
    "plt.xlabel('Labels')\n",
    "plt.ylabel('Frequency')\n",
    "plt.title('Label Frequency')\n",
    "\n",
    "plt.savefig('label_freq_graph.png')\n",
    "\n",
    "# Show the plot\n",
    "plt.show()"
   ]
  },
  {
   "cell_type": "markdown",
   "metadata": {},
   "source": [
    "### Task 2\n",
    "Create a KNN class where you implement the following:\n",
    "1. Create a class where you can modify and access the encoder type, k, and\n",
    "distance metric (and any required parameter)of the class\n",
    "2. Return the inference (prediction) when given the above parameters (encoder type, k, and distance metric).\n",
    "3. Return the validation f-1 score, accuracy, precision, and recall after splitting the provided dataset into train and val subsets. You are allowed to\n",
    "use sklearn metrics for this part."
   ]
  },
  {
   "cell_type": "code",
   "execution_count": 73,
   "metadata": {},
   "outputs": [],
   "source": [
    "# splitting the dataset for training and testing\n",
    "\n",
    "np.random.shuffle(dataset)\n",
    "train_data, test_data = np.split(dataset, [1200])\n",
    "\n",
    "# test_data.shape\n",
    "# test_data"
   ]
  },
  {
   "cell_type": "code",
   "execution_count": 74,
   "metadata": {},
   "outputs": [],
   "source": [
    "# retrieving the specific columns for the training and testing data\n",
    "\n",
    "resnet_train=train_data[:,1]\n",
    "resnet_test=test_data[:,1]\n",
    "\n",
    "vit_train=train_data[:,2]\n",
    "vit_test=test_data[:,2]\n",
    "\n",
    "labels_train=train_data[:,3]\n",
    "labels_test=test_data[:,3]\n",
    "\n",
    "# df=pd.DataFrame(resnet_test[0])\n",
    "# df"
   ]
  },
  {
   "cell_type": "code",
   "execution_count": 75,
   "metadata": {},
   "outputs": [
    {
     "name": "stdout",
     "output_type": "stream",
     "text": [
      "Predicted labels:\n",
      "['bicycle', 'tomato', 'needle', 'sun', 'sun', 'walk', 'pencil', 'cigarette', 'sun', 'van', 'finger', 'clock', 'chair', 'fish', 'hammer', 'knife', 'airplane', 'dragonfly', 'fish', 'tent', 'radio', 'dragonfly', 'keyboard', 'fish', 'swim', 'sun', 'telephone', 'clock', 'monkey', 'hammer', 'needle', 'climb', 'hammer', 'love', 'camera', 'spoon', 'chair', 'key', 'boat', 'tomato', 'sun', 'tree', 'bed', 'hammer', 'chair', 'bird', 'bucket', 'candle', 'clean', 'mug', 'mouse', 'ant', 'loudspeaker', 'chair', 'key', 'postcard', 'fish', 'sleep', 'sun', 'swim', 'fish', 'hammer', 'finger', 'laptop', 'clean', 'finger', 'butterfly', 'ladder', 'frog', 'candle', 'elephant', 'walk', 'passport', 'tree', 'pizza', 'keyboard', 'roof', 'cut', 'finger', 'flute', 'arrow', 'chair', 'lazy', 'candle', 'potato', 'chair', 'tree', 'arrow', 'fly', 'table', 'potato', 'shark', 'knife', 'frog', 'candle', 'keyboard', 'fish', 'fish', 'flute', 'grass', 'clean', 'bend', 'selfie', 'camera', 'chair', 'tree', 'camera', 'hammer', 'wheel', 'spoon', 'helicopter', 'snake', 'clean', 'flute', 'candle', 'clock', 'mug', 'flute', 'bucket', 'flute', 'bucket', 'plant', 'door', 'pull', 'fork', 'butterfly', 'stairs', 'sad', 'sleep', 'laptop', 'toothpaste', 'sun', 'clock', 'enter', 'tree', 'tree', 'pillow', 'ladder', 'keyboard', 'chair', 'sun', 'fish', 'knife', 'stairs', 'laptop', 'flute', 'knife', 'sword', 'enter', 'boat', 'grass', 'candle', 'brush', 'happy', 'shark', 'sun', 'mouse', 'enter', 'happy', 'sun', 'truck', 'shark', 'table', 'butterfly', 'cigarette', 'shark', 'tree', 'pencil', 'bend', 'run', 'hammer', 'clock', 'dragonfly', 'butterfly', 'mug', 'boat', 'book', 'roof', 'laptop', 'pizza', 'candle', 'rose', 'knife', 'listen', 'peacock', 'grass', 'calculator', 'fish', 'truck', 'scream', 'enter', 'wheel', 'flute', 'mouse', 'boat', 'ladder', 'bend', 'bed', 'keyboard', 'happy', 'chair', 'fire', 'wheel', 'giraffe', 'bullet', 'fire', 'snake', 'helicopter', 'fish', 'sun', 'finger', 'postcard', 'rain', 'fish', 'carrot', 'sun', 'sun', 'helicopter', 'snake', 'radio', 'fruit', 'pencil', 'arrow', 'door', 'cigarette', 'elephant', 'saturn', 'flute', 'key', 'basketball', 'fish', 'love', 'love', 'chair', 'brush', 'grass', 'fish', 'tree', 'fish', 'close', 'calendar', 'gym', 'smile', 'fishing', 'face', 'sun', 'toothbrush', 'wheel', 'elephant', 'potato', 'table', 'clean', 'fish', 'grass', 'plant', 'windmill', 'clock', 'bullet', 'sun', 'pant', 'arrow', 'hammer', 'needle', 'slide', 'bee', 'mug', 'pant', 'happy', 'fishing', 'knife', 'comb', 'arrow', 'arrow', 'tattoo', 'ape', 'catch', 'bed', 'laptop', 'laptop', 'pizza', 'comb', 'candle', 'love', 'butterfly', 'shoe', 'fish', 'chair', 'sun', 'wheel', 'face', 'spoon', 'slide', 'fishing', 'enter', 'boat', 'smile', 'fire', 'pillow', 'camera', 'windmill']\n",
      "Actual labels:\n",
      "['download', 'tomato', 'rose', 'spider', 'sun', 'run', 'slide', 'pizza', 'clock', 'van', 'finger', 'clock', 'chair', 'fire', 'sword', 'screwdriver', 'walk', 'sword', 'face', 'pillow', 'eraser', 'angry', 'keyboard', 'mouse', 'snake', 'tomato', 'mouse', 'clock', 'cry', 'crocodile', 'zip', 'badminton', 'kiss', 'love', 'camera', 'snake', 'door', 'flute', 'boat', 'rose', 'sun', 'monkey', 'igloo', 'cigarette', 'cow', 'ant', 'rain', 'rose', 'forest', 'shoe', 'mouse', 'igloo', 'roof', 'helicopter', 'shoe', 'notebook', 'tomato', 'roof', 'sunny', 'shark', 'boat', 'fork', 'toothbrush', 'laptop', 'passport', 'swim', 'fish', 'comb', 'sing', 'candle', 'cow', 'earth', 'bury', 'burn', 'clock', 'notebook', 'email', 'fly', 'butterfly', 'flute', 'download', 'table', 'dive', 'candle', 'eraser', 'lizard', 'tree', 'hammer', 'tomato', 'table', 'eraser', 'arrow', 'knife', 'peacock', 'peacock', 'keyboard', 'butterfly', 'shark', 'pencil', 'grass', 'table', 'shark', 'frog', 'camera', 'mouse', 'cat', 'radio', 'cow', 'beetle', 'toothbrush', 'pizza', 'earth', 'paint', 'lizard', 'car', 'clock', 'basketball', 'spoon', 'bucket', 'spoon', 'bucket', 'chair', 'pillow', 'bullet', 'rose', 'spider', 'stairs', 'scream', 'tank', 'brick', 'screwdriver', 'sun', 'elephant', 'teaspoon', 'forest', 'tree', 'radio', 'ladder', 'keyboard', 'door', 'sun', 'car', 'crocodile', 'feet', 'laptop', 'flute', 'knife', 'baseball', 'postcard', 'television', 'grass', 'drink', 'clean', 'panda', 'fish', 'bird', 'bicycle', 'television', 'face', 'tomato', 'ambulance', 'key', 'keyboard', 'mouse', 'windmill', 'shark', 'crocodile', 'pant', 'pull', 'drive', 'hammer', 'clock', 'puppet', 'brush', 'wheel', 'love', 'laptop', 'lantern', 'door', 'pizza', 'candle', 'scissor', 'knife', 'face', 'bird', 'hammer', 'tank', 'butterfly', 'boat', 'tank', 'bird', 'wheel', 'flute', 'fishing', 'grass', 'ladder', 'sun', 'comb', 'loudspeaker', 'smile', 'chair', 'grass', 'spiderman', 'cow', 'bed', 'butterfly', 'snake', 'telephone', 'call', 'cow', 'clap', 'door', 'rain', 'fruit', 'call', 'cat', 'sing', 'knife', 'snake', 'teaspoon', 'helicopter', 'pizza', 'stairs', 'bed', 'paintbrush', 'deer', 'saturn', 'flute', 'shark', 'rose', 'fish', 'love', 'love', 'stairs', 'mug', 'needle', 'potato', 'tree', 'fish', 'elephant', 'calendar', 'bullet', 'potato', 'bend', 'smile', 'bicycle', 'toothbrush', 'wheel', 'puppy', 'windmill', 'table', 'drive', 'comb', 'fire', 'bucket', 'butterfly', 'clock', 'roof', 'deer', 'stairs', 'ladder', 'dig', 'boat', 'butterfly', 'pear', 'mug', 'sweater', 'lake', 'fork', 'flute', 'elephant', 'lizard', 'ladder', 'bullet', 'stove', 'spiderman', 'chair', 'toaster', 'bench', 'earth', 'pencil', 'candle', 'clock', 'tomato', 'shoe', 'butterfly', 'bench', 'sunny', 'snake', 'happy', 'sword', 'zip', 'catch', 'flute', 'basket', 'happy', 'feather', 'door', 'cook', 'plant']\n",
      "Accuracy: 21.33%\n"
     ]
    }
   ],
   "source": [
    "# trying knn for euclidian dist and resnet val\n",
    "\n",
    "def euclidian_dist(testdp, traindp):\n",
    "    sub=testdp-traindp\n",
    "    subsq=np.square(sub)\n",
    "    subsqsum=np.sum(subsq)\n",
    "    dist=np.sqrt(subsqsum)\n",
    "    return dist\n",
    "\n",
    "k=5\n",
    "pred_labels=[]\n",
    "for dptest in resnet_test:\n",
    "    \n",
    "    distances={}\n",
    "    index=0\n",
    "    for dptrain in resnet_train:\n",
    "        dist=euclidian_dist(dptest, dptrain)\n",
    "        distances[index]=dist\n",
    "        index+=1\n",
    "        # print(dist)\n",
    "    # print(distances)\n",
    "    sorted_distances=sorted(distances.items(), key=lambda x: x[1])\n",
    "    # print(sorted_distances)\n",
    "    \n",
    "    k_nearest_labels={}\n",
    "    maxfreq=0\n",
    "    maxfreqlabels=[]\n",
    "    for i in range(k):\n",
    "        curr_label=labels_train[sorted_distances[i][0]]\n",
    "        k_nearest_labels[curr_label]=k_nearest_labels.get(labels_train[sorted_distances[i][0]], 0)+1\n",
    "    # print(k_nearest_labels)\n",
    "    for l, c in k_nearest_labels.items():\n",
    "        if c>maxfreq:\n",
    "            maxfreq=c\n",
    "            pred_label=l\n",
    "    pred_labels.append(pred_label)\n",
    "print(\"Predicted labels:\")\n",
    "print(pred_labels)\n",
    "print(\"Actual labels:\")\n",
    "print(labels_test.tolist())\n",
    "\n",
    "correct = 0\n",
    "\n",
    "for i in range(len(pred_labels)):\n",
    "    if pred_labels[i] == labels_test[i]:\n",
    "        correct += 1\n",
    "\n",
    "accuracy = correct / len(labels_test)\n",
    "# print(accuracy)\n",
    "print(f\"Accuracy: {accuracy * 100:.2f}%\")\n",
    "\n"
   ]
  }
 ],
 "metadata": {
  "kernelspec": {
   "display_name": "Python 3",
   "language": "python",
   "name": "python3"
  },
  "language_info": {
   "codemirror_mode": {
    "name": "ipython",
    "version": 3
   },
   "file_extension": ".py",
   "mimetype": "text/x-python",
   "name": "python",
   "nbconvert_exporter": "python",
   "pygments_lexer": "ipython3",
   "version": "3.10.12"
  }
 },
 "nbformat": 4,
 "nbformat_minor": 2
}
